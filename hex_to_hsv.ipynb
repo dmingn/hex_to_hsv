{
  "nbformat": 4,
  "nbformat_minor": 0,
  "metadata": {
    "colab": {
      "name": "hex_to_hsv.ipynb",
      "provenance": [],
      "collapsed_sections": [],
      "authorship_tag": "ABX9TyNu6ZXGRDUOimHYyLOlW1fS",
      "include_colab_link": true
    },
    "kernelspec": {
      "name": "python3",
      "display_name": "Python 3"
    },
    "language_info": {
      "name": "python"
    }
  },
  "cells": [
    {
      "cell_type": "markdown",
      "metadata": {
        "id": "view-in-github",
        "colab_type": "text"
      },
      "source": [
        "<a href=\"https://colab.research.google.com/github/dmingn/hex_to_hsv/blob/main/hex_to_hsv.ipynb\" target=\"_parent\"><img src=\"https://colab.research.google.com/assets/colab-badge.svg\" alt=\"Open In Colab\"/></a>"
      ]
    },
    {
      "cell_type": "code",
      "metadata": {
        "id": "kdRHyY4w01M5"
      },
      "source": [
        "hex = \"#8d0584\" #@param {type:\"string\"}\n",
        "h_max = 360 #@param {type:\"number\"}\n",
        "s_max = 1 #@param {type:\"number\"}\n",
        "v_max = 1 #@param {type:\"number\"}"
      ],
      "execution_count": 1,
      "outputs": []
    },
    {
      "cell_type": "code",
      "metadata": {
        "colab": {
          "base_uri": "https://localhost:8080/"
        },
        "id": "wGE9jINt1QgR",
        "outputId": "dbe51ffd-de7d-46d9-d0dc-89c477747bcd"
      },
      "source": [
        "!pip install webcolors\n",
        "import colorsys\n",
        "import webcolors"
      ],
      "execution_count": 2,
      "outputs": [
        {
          "output_type": "stream",
          "text": [
            "Requirement already satisfied: webcolors in /usr/local/lib/python3.7/dist-packages (1.11.1)\n"
          ],
          "name": "stdout"
        }
      ]
    },
    {
      "cell_type": "code",
      "metadata": {
        "colab": {
          "base_uri": "https://localhost:8080/"
        },
        "id": "WiMqlYbS21qq",
        "outputId": "b8af9f4f-0cfa-49fe-cd89-06fb62248192"
      },
      "source": [
        "integer_rgb = webcolors.hex_to_rgb(hex)\n",
        "\n",
        "h, s, v = colorsys.rgb_to_hsv(\n",
        "    r=integer_rgb.red / 255,\n",
        "    g=integer_rgb.green / 255,\n",
        "    b=integer_rgb.blue / 255,\n",
        ")\n",
        "\n",
        "print(f\"h: {h * h_max}, s: {s * s_max}, v: {v * v_max}\")"
      ],
      "execution_count": 3,
      "outputs": [
        {
          "output_type": "stream",
          "text": [
            "h: 303.97058823529414, s: 0.9645390070921985, v: 0.5529411764705883\n"
          ],
          "name": "stdout"
        }
      ]
    }
  ]
}